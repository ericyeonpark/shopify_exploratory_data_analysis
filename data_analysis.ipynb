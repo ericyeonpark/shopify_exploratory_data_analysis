{
 "cells": [
  {
   "cell_type": "markdown",
   "source": [
    "# Importing the Data"
   ],
   "metadata": {}
  },
  {
   "cell_type": "code",
   "execution_count": 1,
   "source": [
    "import re\r\n",
    "\r\n",
    "# to handle datasets\r\n",
    "import pandas as pd\r\n",
    "import numpy as np\r\n",
    "\r\n",
    "# for visualization\r\n",
    "import matplotlib.pyplot as plt\r\n",
    "import seaborn as sns\r\n",
    "\r\n",
    "# to divide train and test set\r\n",
    "from sklearn.model_selection import train_test_split\r\n",
    "\r\n",
    "# feature scaling\r\n",
    "from sklearn.preprocessing import StandardScaler\r\n",
    "\r\n",
    "# to build the models\r\n",
    "from sklearn.pipeline import make_pipeline \r\n",
    "\r\n",
    "# import datetime\r\n",
    "import datetime\r\n",
    "\r\n",
    "# encoders\r\n",
    "from category_encoders import OrdinalEncoder\r\n",
    "from sklearn.impute import SimpleImputer\r\n",
    "from sklearn.preprocessing import StandardScaler\r\n",
    "\r\n",
    "# model creation\r\n",
    "from sklearn.model_selection import train_test_split\r\n",
    "from sklearn.pipeline import make_pipeline \r\n",
    "from sklearn.ensemble import RandomForestClassifier\r\n",
    "from sklearn.model_selection import RandomizedSearchCV \r\n",
    "import pickle\r\n",
    "\r\n",
    "# to visualise al the columns in the dataframe\r\n",
    "pd.pandas.set_option('display.max_columns', None)\r\n",
    "pd.pandas.set_option('display.max_rows', 100)"
   ],
   "outputs": [],
   "metadata": {}
  }
 ],
 "metadata": {
  "orig_nbformat": 4,
  "language_info": {
   "name": "python",
   "version": "3.7.10",
   "mimetype": "text/x-python",
   "codemirror_mode": {
    "name": "ipython",
    "version": 3
   },
   "pygments_lexer": "ipython3",
   "nbconvert_exporter": "python",
   "file_extension": ".py"
  },
  "kernelspec": {
   "name": "python3",
   "display_name": "Python 3.7.10 64-bit ('unit2': conda)"
  },
  "interpreter": {
   "hash": "3544570b386dedc2d1a14b544dd1a37310ecc4a835bccfc299e511315aa144aa"
  }
 },
 "nbformat": 4,
 "nbformat_minor": 2
}